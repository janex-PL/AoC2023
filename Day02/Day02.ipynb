{
 "cells": [
  {
   "cell_type": "markdown",
   "metadata": {},
   "source": [
    "# Day 2"
   ]
  },
  {
   "cell_type": "code",
   "execution_count": 22,
   "metadata": {},
   "outputs": [],
   "source": [
    "class CubeSet:\n",
    "    def __init__(self, color, size):\n",
    "        self.color = color\n",
    "        self.size = size\n",
    "\n",
    "class Round:\n",
    "    def __init__(self, cubeSets):\n",
    "        self.cubeSets = cubeSets\n",
    "\n",
    "class Game:\n",
    "    def __init__(self, id, rounds):\n",
    "        self.id = id\n",
    "        self.rounds = rounds\n",
    "\n",
    "def parse_input(file_path):\n",
    "    with open(file_path) as f:\n",
    "        content = f.readlines()\n",
    "\n",
    "    games = []\n",
    "    for line in content:\n",
    "        game = Game(0, [])\n",
    "        game.id = int(line.split(\":\")[0].split(\" \")[1])\n",
    "\n",
    "        rounds = []\n",
    "        for round in line.split(\":\")[1].split(\";\"):\n",
    "            cubeSets = []\n",
    "            for cubeSet in round.split(\",\"):\n",
    "                cubeSet = cubeSet.strip()\n",
    "                size = int(cubeSet.split(\" \")[0])\n",
    "                color = cubeSet.split(\" \")[1]\n",
    "                set = CubeSet(color, size)\n",
    "                cubeSets.append(set)\n",
    "            rounds.append(Round(cubeSets))\n",
    "        game.rounds = rounds\n",
    "        games.append(game)\n",
    "\n",
    "    return games\n",
    "\n",
    "games = parse_input(\"input.txt\")\n"
   ]
  },
  {
   "cell_type": "markdown",
   "metadata": {},
   "source": [
    "## Part 1"
   ]
  },
  {
   "cell_type": "code",
   "execution_count": 23,
   "metadata": {},
   "outputs": [
    {
     "data": {
      "text/plain": [
       "2593"
      ]
     },
     "execution_count": 23,
     "metadata": {},
     "output_type": "execute_result"
    }
   ],
   "source": [
    "result = 0\n",
    "for game in games:\n",
    "    isValid = True\n",
    "    for round in game.rounds:\n",
    "        if isValid == False:\n",
    "            break\n",
    "        for cubeSet in round.cubeSets:\n",
    "            if cubeSet.color == \"red\" and cubeSet.size > 12:\n",
    "                isValid = False\n",
    "                break\n",
    "            if cubeSet.color == \"green\" and cubeSet.size > 13:\n",
    "                isValid = False\n",
    "                break\n",
    "            if cubeSet.color == \"blue\" and cubeSet.size > 14:\n",
    "                isValid = False\n",
    "                break\n",
    "    if isValid == True:\n",
    "        result += game.id\n",
    "result"
   ]
  },
  {
   "cell_type": "markdown",
   "metadata": {},
   "source": [
    "## Part 2"
   ]
  },
  {
   "cell_type": "code",
   "execution_count": 24,
   "metadata": {},
   "outputs": [
    {
     "data": {
      "text/plain": [
       "54699"
      ]
     },
     "execution_count": 24,
     "metadata": {},
     "output_type": "execute_result"
    }
   ],
   "source": [
    "result = 0\n",
    "for game in games:\n",
    "    red,green,blue = 0,0,0\n",
    "    for round in game.rounds:\n",
    "        for cubeSet in round.cubeSets:\n",
    "            if cubeSet.color == \"red\" and cubeSet.size > red:\n",
    "                red = cubeSet.size\n",
    "            if cubeSet.color == \"green\" and cubeSet.size > green:\n",
    "                green = cubeSet.size\n",
    "            if cubeSet.color == \"blue\" and cubeSet.size > blue:\n",
    "                blue = cubeSet.size\n",
    "    result += red * green * blue\n",
    "result"
   ]
  }
 ],
 "metadata": {
  "kernelspec": {
   "display_name": ".venv",
   "language": "python",
   "name": "python3"
  },
  "language_info": {
   "codemirror_mode": {
    "name": "ipython",
    "version": 3
   },
   "file_extension": ".py",
   "mimetype": "text/x-python",
   "name": "python",
   "nbconvert_exporter": "python",
   "pygments_lexer": "ipython3",
   "version": "3.11.6"
  }
 },
 "nbformat": 4,
 "nbformat_minor": 2
}
