{
 "cells": [
  {
   "cell_type": "markdown",
   "metadata": {},
   "source": [
    "# Day04"
   ]
  },
  {
   "cell_type": "code",
   "execution_count": 38,
   "metadata": {},
   "outputs": [],
   "source": [
    "# read input\n",
    "with open('input.txt') as f:\n",
    "    lines = f.readlines()\n",
    "\n",
    "winning_numbers = []\n",
    "card_numbers = []\n",
    "\n",
    "for line in lines:\n",
    "    numbers = line.split(':')[1]\n",
    "    winning_seq, card_seq = numbers.split('|')\n",
    "    # parse numbers to int\n",
    "    winning_numbers.append(list(map(int,filter(None,winning_seq.strip().split(' ')))))\n",
    "    card_numbers.append(list(map(int,filter(None,card_seq.strip().split(' ')))))\n"
   ]
  },
  {
   "cell_type": "markdown",
   "metadata": {},
   "source": [
    "## Part 1"
   ]
  },
  {
   "cell_type": "code",
   "execution_count": 39,
   "metadata": {},
   "outputs": [
    {
     "data": {
      "text/plain": [
       "23847"
      ]
     },
     "execution_count": 39,
     "metadata": {},
     "output_type": "execute_result"
    }
   ],
   "source": [
    "def get_winning_count(winning_numbers, card_numbers):\n",
    "    count = 0\n",
    "    for number in winning_numbers:\n",
    "        if number in card_numbers:\n",
    "            count += 1\n",
    "    return count\n",
    "\n",
    "sum = 0\n",
    "for i in range(len(lines)):\n",
    "    count = get_winning_count(winning_numbers[i], card_numbers[i])\n",
    "    if count > 0:\n",
    "        sum += 2**(count-1)\n",
    "sum"
   ]
  },
  {
   "cell_type": "markdown",
   "metadata": {},
   "source": [
    "## Part 2"
   ]
  },
  {
   "cell_type": "code",
   "execution_count": 40,
   "metadata": {},
   "outputs": [
    {
     "name": "stdout",
     "output_type": "stream",
     "text": [
      "[1, 2, 4, 8, 8, 16, 32, 32, 31, 62, 122, 244, 488, 232, 433, 512, 1, 1, 2, 3, 6, 12, 24, 48, 96, 192, 384, 768, 720, 946, 1697, 1698, 1, 2, 4, 8, 16, 32, 64, 120, 238, 476, 952, 1903, 1665, 3326, 6652, 11147, 22262, 43508, 86896, 86896, 90223, 93550, 90224, 1, 2, 4, 8, 16, 28, 56, 112, 208, 208, 415, 802, 1131, 2262, 4308, 6571, 6572, 1, 2, 4, 8, 16, 28, 56, 112, 224, 448, 896, 1791, 3580, 6676, 13336, 19996, 39992, 79816, 59820, 106080, 211264, 418948, 525029, 631110, 1, 2, 4, 8, 15, 30, 58, 116, 232, 449, 596, 1192, 2354, 4112, 4112, 1, 2, 4, 8, 16, 32, 60, 120, 239, 478, 956, 1912, 1850, 3700, 6898, 9976, 19681, 39362, 77768, 109276, 9977, 1, 2, 4, 8, 16, 32, 44, 88, 176, 352, 176, 351, 349, 666, 1324, 2384, 4102, 6487, 1, 2, 4, 8, 16, 32, 31, 62, 124, 248, 248, 186, 370, 736, 1464, 2881, 5762, 11154, 22308, 44492, 88984, 159588, 318990, 637244, 321872, 1, 2, 4, 8, 16, 32, 64, 96, 192, 384, 767, 1534, 3066, 6128, 11864, 17520, 34848, 68162, 106844, 213688, 356148, 497841, 995682, 1635216]\n"
     ]
    },
    {
     "data": {
      "text/plain": [
       "8570000"
      ]
     },
     "execution_count": 40,
     "metadata": {},
     "output_type": "execute_result"
    }
   ],
   "source": [
    "cardsCount = [1] * len(lines)\n",
    "for i in range(len(lines)):\n",
    "    count = get_winning_count(winning_numbers[i], card_numbers[i])\n",
    "    multiplier = cardsCount[i]\n",
    "    for j in range(count):\n",
    "        cardsCount[j+i+1] += multiplier\n",
    "\n",
    "sum = 0\n",
    "for i in range(len(lines)):\n",
    "    sum += cardsCount[i] \n",
    "sum"
   ]
  }
 ],
 "metadata": {
  "kernelspec": {
   "display_name": ".venv",
   "language": "python",
   "name": "python3"
  },
  "language_info": {
   "codemirror_mode": {
    "name": "ipython",
    "version": 3
   },
   "file_extension": ".py",
   "mimetype": "text/x-python",
   "name": "python",
   "nbconvert_exporter": "python",
   "pygments_lexer": "ipython3",
   "version": "3.11.6"
  }
 },
 "nbformat": 4,
 "nbformat_minor": 2
}
