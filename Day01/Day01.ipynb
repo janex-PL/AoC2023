{
 "cells": [
  {
   "cell_type": "markdown",
   "metadata": {},
   "source": [
    "# Day01"
   ]
  },
  {
   "cell_type": "code",
   "execution_count": 1,
   "metadata": {},
   "outputs": [],
   "source": [
    "with open(\"input.txt\") as f:\n",
    "    content = f.readlines()"
   ]
  },
  {
   "cell_type": "markdown",
   "metadata": {},
   "source": [
    "## Part 1"
   ]
  },
  {
   "cell_type": "code",
   "execution_count": 2,
   "metadata": {},
   "outputs": [
    {
     "data": {
      "text/plain": [
       "55971"
      ]
     },
     "execution_count": 2,
     "metadata": {},
     "output_type": "execute_result"
    }
   ],
   "source": [
    "def find_digit(s):\n",
    "    for i, c in enumerate(s):\n",
    "        if c.isdigit():\n",
    "            return c\n",
    "    return ''\n",
    "\n",
    "numbers = []\n",
    "for line in content:\n",
    "    x = find_digit(line)\n",
    "    y = find_digit(line[::-1])\n",
    "    numbers.append(int(x+y))\n",
    "\n",
    "sum(numbers)"
   ]
  },
  {
   "cell_type": "markdown",
   "metadata": {},
   "source": [
    "## Part 2"
   ]
  },
  {
   "cell_type": "code",
   "execution_count": 3,
   "metadata": {},
   "outputs": [
    {
     "data": {
      "text/plain": [
       "54719"
      ]
     },
     "execution_count": 3,
     "metadata": {},
     "output_type": "execute_result"
    }
   ],
   "source": [
    "def find_digit_or_string(s, isReverse):\n",
    "    digitStrings = ['one', 'two', 'three', 'four', 'five', 'six', 'seven', 'eight', 'nine']\n",
    "    for i in reversed(range(len(s))) if isReverse else range(len(s)):\n",
    "        if s[i].isdigit():\n",
    "            return s[i]\n",
    "        for d in digitStrings:\n",
    "            if isReverse and s[:i].endswith(d):\n",
    "                return str(digitStrings.index(d)+1)\n",
    "            if not isReverse and s[i:].startswith(d):\n",
    "                return str(digitStrings.index(d)+1)\n",
    "    return ''\n",
    "\n",
    "numbers = []\n",
    "for line in content:\n",
    "    x = find_digit_or_string(line, False)\n",
    "    y = find_digit_or_string(line, True)\n",
    "    numbers.append(int(x + y))\n",
    "sum(numbers)"
   ]
  },
  {
   "cell_type": "code",
   "execution_count": null,
   "metadata": {},
   "outputs": [],
   "source": []
  }
 ],
 "metadata": {
  "kernelspec": {
   "display_name": ".venv",
   "language": "python",
   "name": "python3"
  },
  "language_info": {
   "codemirror_mode": {
    "name": "ipython",
    "version": 3
   },
   "file_extension": ".py",
   "mimetype": "text/x-python",
   "name": "python",
   "nbconvert_exporter": "python",
   "pygments_lexer": "ipython3",
   "version": "3.11.6"
  }
 },
 "nbformat": 4,
 "nbformat_minor": 2
}
